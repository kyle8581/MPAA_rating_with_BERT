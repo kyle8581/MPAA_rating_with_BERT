{
 "cells": [
  {
   "cell_type": "code",
   "execution_count": 1,
   "metadata": {},
   "outputs": [],
   "source": [
    "import pandas as pd\n",
    "import numpy as np\n",
    "import json\n",
    "from tqdm import tqdm"
   ]
  },
  {
   "cell_type": "code",
   "execution_count": 4,
   "metadata": {},
   "outputs": [],
   "source": [
    "partition_file = open(\"partitions_train.json\", \"rb\")\n",
    "partition = json.load(partition_file)\n",
    "partition_file.close()"
   ]
  },
  {
   "cell_type": "code",
   "execution_count": 7,
   "metadata": {},
   "outputs": [
    {
     "name": "stdout",
     "output_type": "stream",
     "text": [
      "train 4443\n",
      "val 555\n",
      "test 555\n"
     ]
    }
   ],
   "source": [
    "for k,v in partition.items():\n",
    "    print(k, len(v))"
   ]
  },
  {
   "cell_type": "markdown",
   "metadata": {},
   "source": [
    "### import metadata"
   ]
  },
  {
   "cell_type": "code",
   "execution_count": 8,
   "metadata": {},
   "outputs": [],
   "source": [
    "metadata = pd.read_csv(\"/home/chaehyeong/MARS_hj/Deliver_dataset/meta_information/metadata.csv\")"
   ]
  },
  {
   "cell_type": "code",
   "execution_count": 9,
   "metadata": {},
   "outputs": [
    {
     "data": {
      "text/html": [
       "<div>\n",
       "<style scoped>\n",
       "    .dataframe tbody tr th:only-of-type {\n",
       "        vertical-align: middle;\n",
       "    }\n",
       "\n",
       "    .dataframe tbody tr th {\n",
       "        vertical-align: top;\n",
       "    }\n",
       "\n",
       "    .dataframe thead th {\n",
       "        text-align: right;\n",
       "    }\n",
       "</style>\n",
       "<table border=\"1\" class=\"dataframe\">\n",
       "  <thead>\n",
       "    <tr style=\"text-align: right;\">\n",
       "      <th></th>\n",
       "      <th>IMDB_ID</th>\n",
       "      <th>Title</th>\n",
       "      <th>Genre</th>\n",
       "      <th>MPAA_rating</th>\n",
       "      <th>Actors</th>\n",
       "      <th>Poster_source</th>\n",
       "      <th>Director</th>\n",
       "      <th>Year</th>\n",
       "    </tr>\n",
       "  </thead>\n",
       "  <tbody>\n",
       "    <tr>\n",
       "      <th>0</th>\n",
       "      <td>tt3462880</td>\n",
       "      <td>Wiener Dog Internationals</td>\n",
       "      <td>Family</td>\n",
       "      <td>G</td>\n",
       "      <td>[{u'url': u'/name/nm0000392/', u'@type': u'Per...</td>\n",
       "      <td>https://m.media-amazon.com/images/M/MV5BMTcwMz...</td>\n",
       "      <td>{u'url': u'/name/nm3406916/', u'@type': u'Pers...</td>\n",
       "      <td>2015</td>\n",
       "    </tr>\n",
       "    <tr>\n",
       "      <th>1</th>\n",
       "      <td>tt1028532</td>\n",
       "      <td>Hachi: A Dog's Tale</td>\n",
       "      <td>Drama, Family</td>\n",
       "      <td>G</td>\n",
       "      <td>[{u'url': u'/name/nm0000152/', u'@type': u'Per...</td>\n",
       "      <td>https://m.media-amazon.com/images/M/MV5BNzE4ND...</td>\n",
       "      <td>{u'url': u'/name/nm0002120/', u'@type': u'Pers...</td>\n",
       "      <td>2009</td>\n",
       "    </tr>\n",
       "    <tr>\n",
       "      <th>2</th>\n",
       "      <td>tt1453405</td>\n",
       "      <td>Monsters University</td>\n",
       "      <td>Animation, Adventure, Comedy, Family, Fantasy</td>\n",
       "      <td>G</td>\n",
       "      <td>[{u'url': u'/name/nm0000345/', u'@type': u'Per...</td>\n",
       "      <td>https://m.media-amazon.com/images/M/MV5BMTUyOD...</td>\n",
       "      <td>{u'url': u'/name/nm0768959/', u'@type': u'Pers...</td>\n",
       "      <td>2013</td>\n",
       "    </tr>\n",
       "    <tr>\n",
       "      <th>3</th>\n",
       "      <td>tt1910605</td>\n",
       "      <td>Rags</td>\n",
       "      <td>Comedy, Drama, Family, Musical</td>\n",
       "      <td>G</td>\n",
       "      <td>[{u'url': u'/name/nm1551130/', u'@type': u'Per...</td>\n",
       "      <td>https://m.media-amazon.com/images/M/MV5BYTI1OT...</td>\n",
       "      <td>{u'url': u'/name/nm0937306/', u'@type': u'Pers...</td>\n",
       "      <td>2012</td>\n",
       "    </tr>\n",
       "    <tr>\n",
       "      <th>4</th>\n",
       "      <td>tt0206588</td>\n",
       "      <td>Beethoven's 3rd</td>\n",
       "      <td>Family, Comedy</td>\n",
       "      <td>G</td>\n",
       "      <td>[{u'url': u'/name/nm0001662/', u'@type': u'Per...</td>\n",
       "      <td>https://m.media-amazon.com/images/M/MV5BYTU2Yz...</td>\n",
       "      <td>{u'url': u'/name/nm0262693/', u'@type': u'Pers...</td>\n",
       "      <td>2000</td>\n",
       "    </tr>\n",
       "  </tbody>\n",
       "</table>\n",
       "</div>"
      ],
      "text/plain": [
       "     IMDB_ID                      Title  \\\n",
       "0  tt3462880  Wiener Dog Internationals   \n",
       "1  tt1028532        Hachi: A Dog's Tale   \n",
       "2  tt1453405        Monsters University   \n",
       "3  tt1910605                       Rags   \n",
       "4  tt0206588            Beethoven's 3rd   \n",
       "\n",
       "                                           Genre MPAA_rating  \\\n",
       "0                                         Family           G   \n",
       "1                                  Drama, Family           G   \n",
       "2  Animation, Adventure, Comedy, Family, Fantasy           G   \n",
       "3                 Comedy, Drama, Family, Musical           G   \n",
       "4                                 Family, Comedy           G   \n",
       "\n",
       "                                              Actors  \\\n",
       "0  [{u'url': u'/name/nm0000392/', u'@type': u'Per...   \n",
       "1  [{u'url': u'/name/nm0000152/', u'@type': u'Per...   \n",
       "2  [{u'url': u'/name/nm0000345/', u'@type': u'Per...   \n",
       "3  [{u'url': u'/name/nm1551130/', u'@type': u'Per...   \n",
       "4  [{u'url': u'/name/nm0001662/', u'@type': u'Per...   \n",
       "\n",
       "                                       Poster_source  \\\n",
       "0  https://m.media-amazon.com/images/M/MV5BMTcwMz...   \n",
       "1  https://m.media-amazon.com/images/M/MV5BNzE4ND...   \n",
       "2  https://m.media-amazon.com/images/M/MV5BMTUyOD...   \n",
       "3  https://m.media-amazon.com/images/M/MV5BYTI1OT...   \n",
       "4  https://m.media-amazon.com/images/M/MV5BYTU2Yz...   \n",
       "\n",
       "                                            Director  Year  \n",
       "0  {u'url': u'/name/nm3406916/', u'@type': u'Pers...  2015  \n",
       "1  {u'url': u'/name/nm0002120/', u'@type': u'Pers...  2009  \n",
       "2  {u'url': u'/name/nm0768959/', u'@type': u'Pers...  2013  \n",
       "3  {u'url': u'/name/nm0937306/', u'@type': u'Pers...  2012  \n",
       "4  {u'url': u'/name/nm0262693/', u'@type': u'Pers...  2000  "
      ]
     },
     "execution_count": 9,
     "metadata": {},
     "output_type": "execute_result"
    }
   ],
   "source": [
    "metadata.head()"
   ]
  },
  {
   "cell_type": "code",
   "execution_count": 10,
   "metadata": {},
   "outputs": [],
   "source": [
    "new_label = []\n",
    "imdb_id = []\n",
    "tokenized_script = []\n",
    "mpaa_rating_to_low_med_high = {\"G\" : \"LOW\", \"PG\" : \"LOW\", \"PG-13\" : \"MED\" , \"R\" : \"HIGH\", \"NC-17\" : \"HIGH\"}\n"
   ]
  },
  {
   "cell_type": "code",
   "execution_count": 11,
   "metadata": {},
   "outputs": [
    {
     "data": {
      "application/vnd.jupyter.widget-view+json": {
       "model_id": "2af4272f06ed47b28e134da6c30ade3e",
       "version_major": 2,
       "version_minor": 0
      },
      "text/plain": [
       "Downloading:   0%|          | 0.00/570 [00:00<?, ?B/s]"
      ]
     },
     "metadata": {},
     "output_type": "display_data"
    },
    {
     "data": {
      "application/vnd.jupyter.widget-view+json": {
       "model_id": "3215245255444f33915582a578e08874",
       "version_major": 2,
       "version_minor": 0
      },
      "text/plain": [
       "Downloading:   0%|          | 0.00/232k [00:00<?, ?B/s]"
      ]
     },
     "metadata": {},
     "output_type": "display_data"
    },
    {
     "data": {
      "application/vnd.jupyter.widget-view+json": {
       "model_id": "f5813cbec2324ef6abfeaa16e738a4bd",
       "version_major": 2,
       "version_minor": 0
      },
      "text/plain": [
       "Downloading:   0%|          | 0.00/466k [00:00<?, ?B/s]"
      ]
     },
     "metadata": {},
     "output_type": "display_data"
    }
   ],
   "source": [
    "from transformers import AutoTokenizer\n",
    "tokenzier =  AutoTokenizer.from_pretrained(\"bert-base-uncased\")"
   ]
  },
  {
   "cell_type": "code",
   "execution_count": 14,
   "metadata": {},
   "outputs": [
    {
     "name": "stderr",
     "output_type": "stream",
     "text": [
      "5562it [03:32, 26.14it/s]\n"
     ]
    }
   ],
   "source": [
    "for idx, row in tqdm(metadata.iterrows()):\n",
    "    new_label.append(mpaa_rating_to_low_med_high[row[\"MPAA_rating\"]])\n",
    "    imdb_id.append(row[\"IMDB_ID\"])\n",
    "    script = \"\"\n",
    "    with open(f\"/home/chaehyeong/MARS_hj/Deliver_dataset/Script/{row['IMDB_ID']}.txt\", \"r\") as f:\n",
    "        for line in f:\n",
    "            script += line\n",
    "\n",
    "    script = script.lower()\n",
    "    cur_tokenized_script = tokenzier(script, max_length=512, truncation=True, padding='max_length')\n",
    "    \n",
    "    tokenized_script.append(cur_tokenized_script)"
   ]
  },
  {
   "cell_type": "code",
   "execution_count": 15,
   "metadata": {},
   "outputs": [],
   "source": [
    "import matplotlib.pyplot as plt"
   ]
  },
  {
   "cell_type": "markdown",
   "metadata": {},
   "source": [
    "## check label distribution"
   ]
  },
  {
   "cell_type": "code",
   "execution_count": 17,
   "metadata": {},
   "outputs": [
    {
     "data": {
      "text/plain": [
       "(array([ 162.,    0., 3193.,    0.,    0., 1559.,    0.,  639.,    0.,\n",
       "           9.]),\n",
       " array([0. , 0.4, 0.8, 1.2, 1.6, 2. , 2.4, 2.8, 3.2, 3.6, 4. ]),\n",
       " <BarContainer object of 10 artists>)"
      ]
     },
     "execution_count": 17,
     "metadata": {},
     "output_type": "execute_result"
    },
    {
     "data": {
      "image/png": "[encoded data removed]",
      "text/plain": [
       "<Figure size 432x288 with 1 Axes>"
      ]
     },
     "metadata": {
      "needs_background": "light"
     },
     "output_type": "display_data"
    }
   ],
   "source": [
    "plt.hist(metadata[\"MPAA_rating\"])"
   ]
  },
  {
   "cell_type": "code",
   "execution_count": 16,
   "metadata": {},
   "outputs": [
    {
     "data": {
      "text/plain": [
       "(array([ 801.,    0.,    0.,    0.,    0., 3202.,    0.,    0.,    0.,\n",
       "        1559.]),\n",
       " array([0. , 0.2, 0.4, 0.6, 0.8, 1. , 1.2, 1.4, 1.6, 1.8, 2. ]),\n",
       " <BarContainer object of 10 artists>)"
      ]
     },
     "execution_count": 16,
     "metadata": {},
     "output_type": "execute_result"
    },
    {
     "data": {
      "image/png": "[encoded data removed]",
      "text/plain": [
       "<Figure size 432x288 with 1 Axes>"
      ]
     },
     "metadata": {
      "needs_background": "light"
     },
     "output_type": "display_data"
    }
   ],
   "source": [
    "plt.hist(new_label)"
   ]
  },
  {
   "cell_type": "code",
   "execution_count": 20,
   "metadata": {},
   "outputs": [],
   "source": [
    "label_to_idx = {\"LOW\" : 0, \"MED\" : 1, \"HIGH\" : 2}"
   ]
  },
  {
   "cell_type": "code",
   "execution_count": 22,
   "metadata": {},
   "outputs": [],
   "source": [
    "preprocessed_data_df = pd.DataFrame({\"IMDB_id\": imdb_id, \"tokenized_script\":[t[\"input_ids\"] for t in tokenized_script], \"rating\": [label_to_idx[l] for l in new_label]})"
   ]
  },
  {
   "cell_type": "code",
   "execution_count": 23,
   "metadata": {},
   "outputs": [
    {
     "data": {
      "text/html": [
       "<div>\n",
       "<style scoped>\n",
       "    .dataframe tbody tr th:only-of-type {\n",
       "        vertical-align: middle;\n",
       "    }\n",
       "\n",
       "    .dataframe tbody tr th {\n",
       "        vertical-align: top;\n",
       "    }\n",
       "\n",
       "    .dataframe thead th {\n",
       "        text-align: right;\n",
       "    }\n",
       "</style>\n",
       "<table border=\"1\" class=\"dataframe\">\n",
       "  <thead>\n",
       "    <tr style=\"text-align: right;\">\n",
       "      <th></th>\n",
       "      <th>IMDB_id</th>\n",
       "      <th>tokenized_script</th>\n",
       "      <th>rating</th>\n",
       "    </tr>\n",
       "  </thead>\n",
       "  <tbody>\n",
       "    <tr>\n",
       "      <th>0</th>\n",
       "      <td>tt3462880</td>\n",
       "      <td>[101, 1031, 2879, 1033, 2748, 999, 5256, 2039,...</td>\n",
       "      <td>0</td>\n",
       "    </tr>\n",
       "    <tr>\n",
       "      <th>1</th>\n",
       "      <td>tt1028532</td>\n",
       "      <td>[101, 2061, 1010, 2130, 2065, 8912, 2288, 2439...</td>\n",
       "      <td>0</td>\n",
       "    </tr>\n",
       "    <tr>\n",
       "      <th>2</th>\n",
       "      <td>tt1453405</td>\n",
       "      <td>[101, 1001, 1996, 3300, 5923, 1005, 1055, 4198...</td>\n",
       "      <td>0</td>\n",
       "    </tr>\n",
       "    <tr>\n",
       "      <th>3</th>\n",
       "      <td>tt1910605</td>\n",
       "      <td>[101, 2047, 2259, 2103, 1012, 1012, 2025, 1037...</td>\n",
       "      <td>0</td>\n",
       "    </tr>\n",
       "    <tr>\n",
       "      <th>4</th>\n",
       "      <td>tt0206588</td>\n",
       "      <td>[101, 2054, 2024, 2017, 2725, 1029, 3611, 2056...</td>\n",
       "      <td>0</td>\n",
       "    </tr>\n",
       "  </tbody>\n",
       "</table>\n",
       "</div>"
      ],
      "text/plain": [
       "     IMDB_id                                   tokenized_script  rating\n",
       "0  tt3462880  [101, 1031, 2879, 1033, 2748, 999, 5256, 2039,...       0\n",
       "1  tt1028532  [101, 2061, 1010, 2130, 2065, 8912, 2288, 2439...       0\n",
       "2  tt1453405  [101, 1001, 1996, 3300, 5923, 1005, 1055, 4198...       0\n",
       "3  tt1910605  [101, 2047, 2259, 2103, 1012, 1012, 2025, 1037...       0\n",
       "4  tt0206588  [101, 2054, 2024, 2017, 2725, 1029, 3611, 2056...       0"
      ]
     },
     "execution_count": 23,
     "metadata": {},
     "output_type": "execute_result"
    }
   ],
   "source": [
    "preprocessed_data_df.head()"
   ]
  },
  {
   "cell_type": "code",
   "execution_count": 24,
   "metadata": {},
   "outputs": [],
   "source": [
    "preprocessed_data_df.to_csv(\"preprocessed_data.csv\")"
   ]
  },
  {
   "cell_type": "markdown",
   "metadata": {},
   "source": [
    "## make partition for train, validation, test"
   ]
  },
  {
   "cell_type": "code",
   "execution_count": 28,
   "metadata": {},
   "outputs": [],
   "source": [
    "import random\n",
    "\n",
    "shuffled_id = list(preprocessed_data_df[\"IMDB_id\"])\n",
    "random.shuffle(shuffled_id)"
   ]
  },
  {
   "cell_type": "code",
   "execution_count": 30,
   "metadata": {},
   "outputs": [
    {
     "name": "stdout",
     "output_type": "stream",
     "text": [
      "['tt0120157', 'tt2125608', 'tt1634121', 'tt0238546', 'tt1600196', 'tt1192628', 'tt0821810', 'tt1519664', 'tt1024943', 'tt0279111']\n"
     ]
    }
   ],
   "source": [
    "print(shuffled_id[:10])"
   ]
  },
  {
   "cell_type": "code",
   "execution_count": 31,
   "metadata": {},
   "outputs": [],
   "source": [
    "train_id = shuffled_id[:int(len(shuffled_id)*0.8)]\n",
    "val_id = shuffled_id[int(len(shuffled_id)*0.8):int(len(shuffled_id)*0.9)]\n",
    "test_id = shuffled_id[int(len(shuffled_id)*0.9):]"
   ]
  },
  {
   "cell_type": "code",
   "execution_count": 32,
   "metadata": {},
   "outputs": [
    {
     "name": "stdout",
     "output_type": "stream",
     "text": [
      "4449\n",
      "556\n",
      "557\n"
     ]
    }
   ],
   "source": [
    "print(len(train_id))\n",
    "print(len(val_id))\n",
    "print(len(test_id))"
   ]
  },
  {
   "cell_type": "code",
   "execution_count": 35,
   "metadata": {},
   "outputs": [],
   "source": [
    "partition = {\n",
    "    \"train\" : train_id,\n",
    "    \"val\" : val_id,\n",
    "    \"test\" : test_id\n",
    "\n",
    "}"
   ]
  },
  {
   "cell_type": "code",
   "execution_count": 36,
   "metadata": {},
   "outputs": [],
   "source": [
    "with open(\"partition.json\" , \"w\") as f:\n",
    "    json.dump(partition, f)"
   ]
  },
  {
   "cell_type": "markdown",
   "metadata": {},
   "source": [
    "### test if dataloader works"
   ]
  },
  {
   "cell_type": "code",
   "execution_count": 1,
   "metadata": {},
   "outputs": [],
   "source": [
    "from dataloader import get_dataloader"
   ]
  },
  {
   "cell_type": "code",
   "execution_count": 2,
   "metadata": {},
   "outputs": [],
   "source": [
    "test_dataloader = get_dataloader(\"test\", 3)"
   ]
  },
  {
   "cell_type": "code",
   "execution_count": 3,
   "metadata": {},
   "outputs": [
    {
     "name": "stdout",
     "output_type": "stream",
     "text": [
      "2024    [101, 2013, 1023, 1024, 2322, 2000, 2340, 1024...\n",
      "Name: tokenized_script, dtype: object\n",
      "5175    [101, 1031, 20696, 2015, 1033, 7632, 1012, 104...\n",
      "Name: tokenized_script, dtype: object\n",
      "90    [101, 2045, 2001, 2498, 2569, 2055, 9198, 2221...\n",
      "Name: tokenized_script, dtype: object\n"
     ]
    }
   ],
   "source": [
    "test_batch = next(iter(test_dataloader))"
   ]
  },
  {
   "cell_type": "code",
   "execution_count": 5,
   "metadata": {},
   "outputs": [
    {
     "data": {
      "text/plain": [
       "tensor([[2],\n",
       "        [0],\n",
       "        [0]])"
      ]
     },
     "execution_count": 5,
     "metadata": {},
     "output_type": "execute_result"
    }
   ],
   "source": [
    "test_batch[\"y\"]"
   ]
  },
  {
   "cell_type": "code",
   "execution_count": 6,
   "metadata": {},
   "outputs": [],
   "source": [
    "import pandas as pd"
   ]
  },
  {
   "cell_type": "code",
   "execution_count": 7,
   "metadata": {},
   "outputs": [],
   "source": [
    "data = pd.read_csv(\"preprocessed_data.csv\")"
   ]
  },
  {
   "cell_type": "code",
   "execution_count": 8,
   "metadata": {},
   "outputs": [],
   "source": [
    "labels = data[\"rating\"]"
   ]
  },
  {
   "cell_type": "code",
   "execution_count": 13,
   "metadata": {},
   "outputs": [],
   "source": [
    "low_count = len(labels[labels==0])\n",
    "med_count = len(labels[labels==1])\n",
    "high_count = len(labels[labels==2])"
   ]
  },
  {
   "cell_type": "code",
   "execution_count": 14,
   "metadata": {},
   "outputs": [
    {
     "name": "stdout",
     "output_type": "stream",
     "text": [
      "801\n",
      "1559\n",
      "3202\n"
     ]
    }
   ],
   "source": [
    "print(low_count)\n",
    "print(med_count)\n",
    "print(high_count)"
   ]
  },
  {
   "cell_type": "code",
   "execution_count": 15,
   "metadata": {},
   "outputs": [],
   "source": [
    "import torch"
   ]
  },
  {
   "cell_type": "code",
   "execution_count": 17,
   "metadata": {},
   "outputs": [
    {
     "name": "stdout",
     "output_type": "stream",
     "text": [
      "tensor([0.1440, 0.2803, 0.5757])\n",
      "tensor([0.5669, 0.2913, 0.1418])\n"
     ]
    }
   ],
   "source": [
    "weights = torch.Tensor([low_count, med_count, high_count])\n",
    "weights = weights / weights.sum()\n",
    "print(weights)\n",
    "weights = 1.0 / weights\n",
    "weights = weights / weights.sum()\n",
    "print(weights)\n"
   ]
  },
  {
   "cell_type": "code",
   "execution_count": null,
   "metadata": {},
   "outputs": [],
   "source": []
  }
 ],
 "metadata": {
  "interpreter": {
   "hash": "3342b5322a924f600e89f28401f60c78e3b1f34c9a58ce3901a1192e146d700b"
  },
  "kernelspec": {
   "display_name": "Python 3.6.9 64-bit ('movie': conda)",
   "language": "python",
   "name": "python3"
  },
  "language_info": {
   "codemirror_mode": {
    "name": "ipython",
    "version": 3
   },
   "file_extension": ".py",
   "mimetype": "text/x-python",
   "name": "python",
   "nbconvert_exporter": "python",
   "pygments_lexer": "ipython3",
   "version": "3.6.9"
  },
  "orig_nbformat": 4
 },
 "nbformat": 4,
 "nbformat_minor": 2
}
